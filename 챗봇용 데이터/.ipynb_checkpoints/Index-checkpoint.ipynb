{
 "cells": [
  {
   "cell_type": "code",
   "execution_count": 2,
   "id": "8d27c4f5",
   "metadata": {},
   "outputs": [],
   "source": [
    "from langchain.embeddings.openai import OpenAIEmbeddings\n",
    "from langchain.embeddings.cohere import CohereEmbeddings\n",
    "from langchain.text_splitter import CharacterTextSplitter\n",
    "from langchain.vectorstores.elastic_vector_search import ElasticVectorSearch\n",
    "from langchain.vectorstores import FAISS\n",
    "from langchain.docstore.document import Document\n",
    "from langchain.prompts import PromptTemplate"
   ]
  },
  {
   "cell_type": "code",
   "execution_count": 20,
   "id": "c1c3ce9d",
   "metadata": {},
   "outputs": [],
   "source": [
    "from langchain.text_splitter import TokenTextSplitter"
   ]
  },
  {
   "cell_type": "code",
   "execution_count": 29,
   "id": "aaadb526",
   "metadata": {},
   "outputs": [],
   "source": [
    "with open(\"/Users/sonhunseo/Desktop/공모전/4. 경기도_GenAI·공공데이터_창업경진대회/similarity.txt\") as f:\n",
    "    context = f.read()\n",
    "text_splitter = TokenTextSplitter(chunk_size=1000, chunk_overlap=0)\n",
    "texts = text_splitter.split_text(context)\n",
    "\n",
    "embeddings = OpenAIEmbeddings()"
   ]
  },
  {
   "cell_type": "code",
   "execution_count": 30,
   "id": "bf8052fc",
   "metadata": {},
   "outputs": [
    {
     "data": {
      "text/plain": [
       "'계약한직후에 벌어질 수 있는 전세사기,\"1. 전세계약 당일 임대인 변경 및 주택담보대출 실행\\n사례 : 2021년 4월, A씨는 서울 동작구 상도동의 한 주택에 입주하게 되었어요. 근저당이 없어 권리관계가 깨끗한 집이었죠. A씨는 전입신고와 동시에 확정일자까지 받았 어요. 이쯤 되면 세입자로서 할 수 있는 모든 일을 다 했다고 볼 수 있지요. 그런데 어느 날, 법원으로부터 고지서 한 통을 받게 되었어요. 집이 경매에 넘어가게 되었으니 퇴거해달라는 내용이었죠. 어떻게 된 일일까요? 알고 보니 전입신고 당일, 임대인 B씨가 자산이 거의 없다시피 한 C씨에게 소유권을 넘겼고, C씨는 주택담보대출을 받았어요. 그러다 대출을 갚을 여력이 되지 않았던 C씨는 잠적했고, 집은 경매에 넘어가게 된 거죠.\"\\n계약한직후에 벌어질 수 있는 전세사기,\"2. 이중계약\\n사례 : 한 청년 A는 마음에 드는 전세 물건을 찾아 권리관계를 확인하고 임대인을 직접 만나 계약을 체결하였어요. 그러�'"
      ]
     },
     "execution_count": 30,
     "metadata": {},
     "output_type": "execute_result"
    }
   ],
   "source": [
    "texts[0]"
   ]
  },
  {
   "cell_type": "code",
   "execution_count": 31,
   "id": "54f34781",
   "metadata": {},
   "outputs": [],
   "source": [
    "docsearch = FAISS.from_texts(texts, embeddings, metadatas=[{\"source\": str(i)} for i in range(len(texts))])"
   ]
  },
  {
   "cell_type": "code",
   "execution_count": 36,
   "id": "ddf5d50a",
   "metadata": {},
   "outputs": [],
   "source": [
    "query = \"계약을 하려는데 집주인말고 다른사람이 왔어\"\n",
    "docs = docsearch.similarity_search(query)[0:2]"
   ]
  },
  {
   "cell_type": "code",
   "execution_count": 37,
   "id": "b68665b5",
   "metadata": {},
   "outputs": [],
   "source": [
    "from langchain.chains.qa_with_sources import load_qa_with_sources_chain\n",
    "from langchain.llms import OpenAI"
   ]
  },
  {
   "cell_type": "code",
   "execution_count": 49,
   "id": "343a62c8",
   "metadata": {},
   "outputs": [
    {
     "data": {
      "text/plain": [
       "{'output_text': '\\n질문자의 상황과 사례를 비교해보면, 전세사기는 가짜 임대인과의 계약, 신탁회사의 동의 없는 계약, 선순위 근저당, 신탁등기 말소 등 특약조건 불이행 등의 경우에 발생할 수 있습니다. 이러한 사기는 임대인이 실제 계약하고자 하는 내용과 다른 계약 방식을 제안하거나, 거짓말을 통해 등기부등본의 소유자 항목을 위조하는 등의 행위로 발생할 수 있습니다. 따라서 임대인을 확인할 때는 이러한 전세사기를 방지하기 위해 신중하게 계약하고, 실제 계약하고자 하는 내용과 다른 계약 방식을 제안하는 경우에는 수락하지 않는 것이 좋습니다.'}"
      ]
     },
     "execution_count": 49,
     "metadata": {},
     "output_type": "execute_result"
    }
   ],
   "source": [
    "template = \"\"\"\n",
    "질문자의 상황 : {question}\n",
    "=========\n",
    "{summaries}\n",
    "=========\n",
    "질문자는 현재 본인이 전세사기의 위험이 있는지 알고싶어해.\n",
    "너는 위 사례와 질문자의 상황의 비슷한점을 판단해서 어떠한점이 위험한지 알려줘야해\n",
    "너는 반드시 답변시 질문자의 상황과 사례를 비교하면서 어떤점이 위험한지 알려줘야해\n",
    "\"\"\"\n",
    "\n",
    "PROMPT = PromptTemplate(template=template, input_variables=[\"summaries\", \"question\"])\n",
    "\n",
    "chain = load_qa_with_sources_chain(OpenAI(temperature=0, max_tokens=1500), chain_type=\"stuff\", prompt=PROMPT)\n",
    "chain({\"input_documents\": docs, \"question\": query}, return_only_outputs=True)"
   ]
  },
  {
   "cell_type": "code",
   "execution_count": null,
   "id": "e364d8f1",
   "metadata": {},
   "outputs": [],
   "source": []
  }
 ],
 "metadata": {
  "kernelspec": {
   "display_name": "Python 3 (ipykernel)",
   "language": "python",
   "name": "python3"
  },
  "language_info": {
   "codemirror_mode": {
    "name": "ipython",
    "version": 3
   },
   "file_extension": ".py",
   "mimetype": "text/x-python",
   "name": "python",
   "nbconvert_exporter": "python",
   "pygments_lexer": "ipython3",
   "version": "3.9.13"
  }
 },
 "nbformat": 4,
 "nbformat_minor": 5
}
