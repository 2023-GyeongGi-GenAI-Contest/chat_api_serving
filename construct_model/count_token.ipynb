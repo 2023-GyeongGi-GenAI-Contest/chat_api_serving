{
 "cells": [
  {
   "cell_type": "code",
   "execution_count": 1,
   "id": "bcd3e8f0",
   "metadata": {},
   "outputs": [],
   "source": [
    "import tiktoken"
   ]
  },
  {
   "cell_type": "code",
   "execution_count": 2,
   "id": "97253e56",
   "metadata": {},
   "outputs": [],
   "source": [
    "encoding = tiktoken.encoding_for_model(\"gpt-3.5-turbo\")"
   ]
  },
  {
   "cell_type": "code",
   "execution_count": 3,
   "id": "d2e51e40",
   "metadata": {},
   "outputs": [],
   "source": [
    "def num_tokens_from_string(string: str, encoding_name: str) -> int:\n",
    "    \"\"\"Returns the number of tokens in a text string.\"\"\"\n",
    "    encoding = tiktoken.get_encoding(encoding_name)\n",
    "    num_tokens = len(encoding.encode(string))\n",
    "    return num_tokens"
   ]
  },
  {
   "cell_type": "code",
   "execution_count": 4,
   "id": "4bec0f36",
   "metadata": {},
   "outputs": [],
   "source": [
    "input_text = \"\"\"\n",
    "계약한직후에 벌어질 수 있는 전세사기,\"1. 전세계약 당일 임대인 변경 및 주택담보대출 실행\\n사례 : 2021년 4월, A씨는 서울 동작구 상도동의 한 주택에 입주하게 되었어요. 근저당이 없어 권리관계가 깨끗한 집이었죠. A씨는 전입신고와 동시에 확정일자까지 받았 어요. 이쯤 되면 세입자로서 할 수 있는 모든 일을 다 했다고 볼 수 있지요. 그런데 어느 날, 법원으로부터 고지서 한 통을 받게 되었어요. 집이 경매에 넘어가게 되었으니 퇴거해달라는 내용이었죠. 어떻게 된 일일까요? 알고 보니 전입신고 당일, 임대인 B씨가 자산이 거의 없다시피 한 C씨에게 소유권을 넘겼고, C씨는 주택담보대출을 받았어요. 그러다 대출을 갚을 여력이 되지 않았던 C씨는 잠적했고, 집은 경매에 넘어가게 된 거죠.\"\\n계약한직후에 벌어질 수 있는 전세사기,\"2. 이중계약\\n사례 : 한 청년 A는 마음에 드는 전세 물건을 찾아 권리관계를 확인하고 임대인을 직접 만나 계약을 체결하였어요. 그러�\n",
    "\"\"\""
   ]
  },
  {
   "cell_type": "code",
   "execution_count": 5,
   "id": "41ef3b6f",
   "metadata": {},
   "outputs": [
    {
     "data": {
      "text/plain": [
       "500"
      ]
     },
     "execution_count": 5,
     "metadata": {},
     "output_type": "execute_result"
    }
   ],
   "source": [
    "num_tokens_from_string(input_text, \"cl100k_base\")"
   ]
  },
  {
   "cell_type": "code",
   "execution_count": 17,
   "id": "b33640da",
   "metadata": {},
   "outputs": [],
   "source": [
    "output_text = \"\"\"\n",
    "전세집을 구하려는 경우, 계약서 작성 시에도 전세사기에 대한 예방이 필요합니다. 전세사기 유형에는 월셋집을 전셋집으로 둔갑시키는 경우와 선순위 임차보증금 및 근저당 허위 고지가 있습니다. 이에 대한 예방방법을 알아보겠습니다.\n",
    "\n",
    "먼저, 월셋집을 전셋집으로 둔갑시키는 경우를 예방하기 위해서는 공인중개사의 등록 여부를 사전에 확인해야 합니다. 등록된 중개업자인지 여부는 국가공간정보포털에서 확인할 수 있습니다. 또한, 개업 중인 공인중개사는 공인중개사법 제30조에 따라 보증보험이나 공제상품에 가입해야 합니다. 이에 따라 공인중개사의 과실이나 고의로 계약자가 금전적 피해를 입었을 때 손해를 보증하는 '부동산 공제증서'를 발급받을 수 있습니다. 따라서 중개업등록증과 공인중개사의 신분증을 확인하고 증서를 받을 수 있도록 해야 합니다.\n",
    "\n",
    "또한, 선순위 임차보증금 및 근저당 허위 고지에 대한 예방방법은 계약 전에 임대인의 동의를 받아 부채 규모를 확인하는 것입니다. 다가구주택의 경우 계약을 하기 전에는 다른 세입자의 보증금 규모를 알기 어려우므로 반드시 임대인의 동의를 받아 계약 전에 부채 규모를 확인해야 합니다. 만일 임대인이 거짓말을 할 경우를 대비하여 특약사항을 기재하는 것을 추천합니다. 계약 전에는 임대인의 동의서, 임대인의 신분증 사본, 인감증명서 등 필요서류를 챙겨 확정일자 부여 현황 서류를 발급받도록 하고, 계약 후에는 임대차 계약서와 본인 신분증 사본 등 필요서류를 챙겨 확정일자 부여 현황과 전입세대 열람 내역을 발급받아 보증금 금액을 통해 이 집에 대해 설정된 부채의 규모를 계산해 볼 수 있습니다.\n",
    "\n",
    "따라서, 전세집을 구하려는 경우 계약서 작성 시에도 전세사기에 대한 예방이 필요하며, 위에서 언급한 예방방법을 참고하여 계약서 작성 시에도 주의해야 합니다. 또한, 계약서 작성 전에는 계약서 내용을 꼼꼼히 확인하고, 필요한 서류를 챙겨 확정일자 부여 현황과 전입세대 열람 내역을 발급받아 보증금 금액을 통해 이 집에 대해 설정된 부채의 규모를 계산해 볼 필요가 있습니다. 이를 통해 전세사기를 예방하고 안전한 전세집을 구할 수 있습니다.\n",
    "\"\"\""
   ]
  },
  {
   "cell_type": "code",
   "execution_count": 18,
   "id": "8e5ffc61",
   "metadata": {},
   "outputs": [
    {
     "data": {
      "text/plain": [
       "995"
      ]
     },
     "execution_count": 18,
     "metadata": {},
     "output_type": "execute_result"
    }
   ],
   "source": [
    "num_tokens_from_string(output_text, \"cl100k_base\")"
   ]
  },
  {
   "cell_type": "code",
   "execution_count": null,
   "id": "92e51cad",
   "metadata": {},
   "outputs": [],
   "source": []
  }
 ],
 "metadata": {
  "kernelspec": {
   "display_name": "Python 3 (ipykernel)",
   "language": "python",
   "name": "python3"
  },
  "language_info": {
   "codemirror_mode": {
    "name": "ipython",
    "version": 3
   },
   "file_extension": ".py",
   "mimetype": "text/x-python",
   "name": "python",
   "nbconvert_exporter": "python",
   "pygments_lexer": "ipython3",
   "version": "3.9.13"
  }
 },
 "nbformat": 4,
 "nbformat_minor": 5
}
