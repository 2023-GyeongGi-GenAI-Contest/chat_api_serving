{
 "cells": [
  {
   "cell_type": "code",
   "execution_count": 1,
   "id": "bcd3e8f0",
   "metadata": {},
   "outputs": [],
   "source": [
    "import tiktoken"
   ]
  },
  {
   "cell_type": "code",
   "execution_count": 2,
   "id": "97253e56",
   "metadata": {},
   "outputs": [],
   "source": [
    "encoding = tiktoken.encoding_for_model(\"gpt-3.5-turbo\")"
   ]
  },
  {
   "cell_type": "code",
   "execution_count": 3,
   "id": "d2e51e40",
   "metadata": {},
   "outputs": [],
   "source": [
    "def num_tokens_from_string(string: str, encoding_name: str) -> int:\n",
    "    \"\"\"Returns the number of tokens in a text string.\"\"\"\n",
    "    encoding = tiktoken.get_encoding(encoding_name)\n",
    "    num_tokens = len(encoding.encode(string))\n",
    "    return num_tokens"
   ]
  },
  {
   "cell_type": "code",
   "execution_count": 27,
   "id": "4bec0f36",
   "metadata": {},
   "outputs": [],
   "source": [
    "input_text = \"\"\"\n",
    "1. 명의도용 대출 사기\n",
    "사례 : 지난 2016년, 명의도용으로 대출금을 가로챈 사기꾼 최모 씨의 범행이 드러났어요. 최 씨는 급전이 필요하지만 일반 대출이 어려운 사람들에게 접근해, “가짜 전세계약서로 금리가 낮은 전세자금 대출을 받아주겠다”고 했어요. 정부 지원 전세대출 상품은 전세계약서를 내고 대출 신청만 하면 신용등급이 낮아도 무담보 전세대출을 받을 수 있다는 사실을 악용한 거죠. 이런 수법으로 최 씨는 은행 18곳에서 모두 대출 승인을 받았고 대출금 4억5천만 원을 전부 가로챘어요. 이런 사례를 명의도용 대출이라고 해요. 실제 전세계약이 체결되지 않았는데 임대인과 세입자의 명의를 도용해 가짜 전세계약서를 작성해 여러 군데의 금융기관에서 대출을 실행하는 거죠. 이 밖에도 임대인이 세입자에게 잠시만 명의를 빌려달라고 해서 몰래 대출을 받으려고 하는 등의 명의도용 사기는 빈번하게 일어난답니다. 이 경우에 아무리 범죄행위를 몰랐다고 해도 명의 제공자에게 책임이 전가될 수 있으니 주의해야 해요.\n",
    "예방 방법 1 - 신분증, 인감 빌려주지 않기\n",
    "예방 방법 2 - 계약서를 실제 계약 내용과 다르게 작성하지 않기\n",
    "\n",
    "2. 브로커를 통한 전세보증 사기\n",
    "사례 : 전세금안심대출보증을 악용해 주택도시보증공사에게 손실을 떠넘기는 사기 사건들이 벌어지고 있다고 해요. 전세보증금을 반환할 형편이 안 되는 사람에게 소유권을 넘기고 세입자는 전세금안심대출보증에 가입해 최대한도로 전세대출을 실행하는 거죠. 전세계약이 종료되면 임대인은 파산 신청을 하는 등의 방식으로 보증금을 반환하지 않고, 세입자는 주택도시보증공사에게 보증금을 돌려달라고 하게 되고요. 특히, 브로커가 명의를 빌려주면 대가를 지급하겠다고 꼬드겨 세입자이나 임대인의 명의를 도용하는 사례들이 있다고 하니 조심하세요! 이런 조직적인 사기 사건에 가담할 경우, 부동산 실명법 위반이나 사기죄 등으로 처벌받을 수 있으니 각별한 주의가 필요해요. 이렇게 되면, 나도 전세사기에 가담하고 휘말리게 되는 것이기 때문에, 처음부터 이런 제안에 응하지 않는 것이 중요해요. 브로커나 임대인이 실제 계약하고자 하는 내용과 다른 계약 방식을 제안했을 때 수락 하지 않아야 해요. 실제와 다른 이면계약을 작성하면 전세금안심대출보증에 가입했더라도 공사의 보증 의무가 없어서 공사로부터도 전세금을 돌려받지 못할 수 있어요.\n",
    "예방 방법 1 - 신분증, 인감 빌려주지 않기\n",
    "예방 방법 2 - 적법한 계약 절차가 아니면 거절하기\n",
    "\n",
    "규칙 :\n",
    "1. 질문이 특정 사기 유형에 해당하지 않는다면 먼저 전세사기 유형 2가지에 대해 답변에서 설명한다.\n",
    "2. 해당하는 유형별 예방방법을 반드시 답변에 포함한다.\n",
    "\n",
    "위 내용과 규칙을 참고해서 다음 Question에 1500단어 정도로 답변해줘.\n",
    "Question :  {text}\n",
    "\"\"\""
   ]
  },
  {
   "cell_type": "code",
   "execution_count": 28,
   "id": "41ef3b6f",
   "metadata": {},
   "outputs": [
    {
     "data": {
      "text/plain": [
       "1323"
      ]
     },
     "execution_count": 28,
     "metadata": {},
     "output_type": "execute_result"
    }
   ],
   "source": [
    "num_tokens_from_string(input_text, \"cl100k_base\")"
   ]
  },
  {
   "cell_type": "code",
   "execution_count": 17,
   "id": "b33640da",
   "metadata": {},
   "outputs": [],
   "source": [
    "output_text = \"\"\"\n",
    "전세집을 구하려는 경우, 계약서 작성 시에도 전세사기에 대한 예방이 필요합니다. 전세사기 유형에는 월셋집을 전셋집으로 둔갑시키는 경우와 선순위 임차보증금 및 근저당 허위 고지가 있습니다. 이에 대한 예방방법을 알아보겠습니다.\n",
    "\n",
    "먼저, 월셋집을 전셋집으로 둔갑시키는 경우를 예방하기 위해서는 공인중개사의 등록 여부를 사전에 확인해야 합니다. 등록된 중개업자인지 여부는 국가공간정보포털에서 확인할 수 있습니다. 또한, 개업 중인 공인중개사는 공인중개사법 제30조에 따라 보증보험이나 공제상품에 가입해야 합니다. 이에 따라 공인중개사의 과실이나 고의로 계약자가 금전적 피해를 입었을 때 손해를 보증하는 '부동산 공제증서'를 발급받을 수 있습니다. 따라서 중개업등록증과 공인중개사의 신분증을 확인하고 증서를 받을 수 있도록 해야 합니다.\n",
    "\n",
    "또한, 선순위 임차보증금 및 근저당 허위 고지에 대한 예방방법은 계약 전에 임대인의 동의를 받아 부채 규모를 확인하는 것입니다. 다가구주택의 경우 계약을 하기 전에는 다른 세입자의 보증금 규모를 알기 어려우므로 반드시 임대인의 동의를 받아 계약 전에 부채 규모를 확인해야 합니다. 만일 임대인이 거짓말을 할 경우를 대비하여 특약사항을 기재하는 것을 추천합니다. 계약 전에는 임대인의 동의서, 임대인의 신분증 사본, 인감증명서 등 필요서류를 챙겨 확정일자 부여 현황 서류를 발급받도록 하고, 계약 후에는 임대차 계약서와 본인 신분증 사본 등 필요서류를 챙겨 확정일자 부여 현황과 전입세대 열람 내역을 발급받아 보증금 금액을 통해 이 집에 대해 설정된 부채의 규모를 계산해 볼 수 있습니다.\n",
    "\n",
    "따라서, 전세집을 구하려는 경우 계약서 작성 시에도 전세사기에 대한 예방이 필요하며, 위에서 언급한 예방방법을 참고하여 계약서 작성 시에도 주의해야 합니다. 또한, 계약서 작성 전에는 계약서 내용을 꼼꼼히 확인하고, 필요한 서류를 챙겨 확정일자 부여 현황과 전입세대 열람 내역을 발급받아 보증금 금액을 통해 이 집에 대해 설정된 부채의 규모를 계산해 볼 필요가 있습니다. 이를 통해 전세사기를 예방하고 안전한 전세집을 구할 수 있습니다.\n",
    "\"\"\""
   ]
  },
  {
   "cell_type": "code",
   "execution_count": 18,
   "id": "8e5ffc61",
   "metadata": {},
   "outputs": [
    {
     "data": {
      "text/plain": [
       "995"
      ]
     },
     "execution_count": 18,
     "metadata": {},
     "output_type": "execute_result"
    }
   ],
   "source": [
    "num_tokens_from_string(output_text, \"cl100k_base\")"
   ]
  },
  {
   "cell_type": "code",
   "execution_count": null,
   "id": "92e51cad",
   "metadata": {},
   "outputs": [],
   "source": []
  }
 ],
 "metadata": {
  "kernelspec": {
   "display_name": "Python 3 (ipykernel)",
   "language": "python",
   "name": "python3"
  },
  "language_info": {
   "codemirror_mode": {
    "name": "ipython",
    "version": 3
   },
   "file_extension": ".py",
   "mimetype": "text/x-python",
   "name": "python",
   "nbconvert_exporter": "python",
   "pygments_lexer": "ipython3",
   "version": "3.9.13"
  }
 },
 "nbformat": 4,
 "nbformat_minor": 5
}
