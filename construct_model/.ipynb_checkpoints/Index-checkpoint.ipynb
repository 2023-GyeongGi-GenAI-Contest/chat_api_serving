{
 "cells": [
  {
   "cell_type": "code",
   "execution_count": 45,
   "id": "539d92be",
   "metadata": {
    "ExecuteTime": {
     "end_time": "2023-06-05T05:36:11.560855Z",
     "start_time": "2023-06-05T05:36:10.419128Z"
    }
   },
   "outputs": [],
   "source": [
    "from langchain.embeddings.openai import OpenAIEmbeddings\n",
    "from langchain.embeddings.cohere import CohereEmbeddings\n",
    "from langchain.text_splitter import CharacterTextSplitter\n",
    "from langchain.vectorstores.elastic_vector_search import ElasticVectorSearch\n",
    "from langchain.vectorstores import FAISS\n",
    "from langchain.docstore.document import Document\n",
    "from langchain.prompts import PromptTemplate"
   ]
  },
  {
   "cell_type": "code",
   "execution_count": 46,
   "id": "946ca07c",
   "metadata": {
    "ExecuteTime": {
     "end_time": "2023-06-05T05:36:16.058322Z",
     "start_time": "2023-06-05T05:36:16.054686Z"
    }
   },
   "outputs": [],
   "source": [
    "from langchain.text_splitter import TokenTextSplitter"
   ]
  },
  {
   "cell_type": "code",
   "execution_count": 47,
   "id": "9a4a8b0a",
   "metadata": {
    "ExecuteTime": {
     "end_time": "2023-06-05T05:36:22.195451Z",
     "start_time": "2023-06-05T05:36:17.861965Z"
    }
   },
   "outputs": [],
   "source": [
    "with open(\"/Users/sonhunseo/Desktop/공모전/4. 경기도_GenAI·공공데이터_창업경진대회/entire_content.txt\") as f:\n",
    "    context = f.read()\n",
    "text_splitter = TokenTextSplitter(chunk_size=1000, chunk_overlap=0)\n",
    "texts = text_splitter.split_text(context)\n",
    "\n",
    "embeddings = OpenAIEmbeddings()"
   ]
  },
  {
   "cell_type": "code",
   "execution_count": 48,
   "id": "301a6df8",
   "metadata": {
    "ExecuteTime": {
     "end_time": "2023-06-05T05:36:28.399876Z",
     "start_time": "2023-06-05T05:36:28.382027Z"
    }
   },
   "outputs": [
    {
     "data": {
      "text/plain": [
       "'\"집을 고르는 시점\"에서의 전세사기의 유형\\n\\n1. 깡통주택\\n\\n깡통주택이란? :\\n깡통주택이란, 임대인의 집이 경매로 넘어갔을 때, 내 보증금이 떼이게 되는 집을 통틀어 가리켜요. 위 그림처럼 매매가격의 대다수를 세입자의 보증금과 빚으로 채우고 있는 집이어서, 사실상 임대인의 몫은 거의 없는 집들이 흔히 깡통주택이에요.\\n보통 깡통주택을 전세로 내놓는 임대인들은 ‘갭투기’를 통해 해당 주택을 사들였을 거예요. 이때의 갭(차이)은 ‘매매가-전세가’를 말해요. 그 ‘갭’마저도 은행에서 대출을 받고요. 이렇게 되면, 임대인이 스스로 자유롭게 융통할 수 있는 돈은 거의 없죠. 보증금도, 은행 대출금도 전부 언젠가 타인에게 돌려줘야 하는 돈이니까요. 그렇기 때문에 만약 집이 경매에 넘어가기라도 하면, 세입자는 보증금을 떼이게 되고요. 경매에 넘어가지 않더라도, 계약이 끝나고 이사를 나갈 때 제때 보증금을 돌려주지 못할 수도 있어요. 임대인이 �'"
      ]
     },
     "execution_count": 48,
     "metadata": {},
     "output_type": "execute_result"
    }
   ],
   "source": [
    "texts[0]"
   ]
  },
  {
   "cell_type": "code",
   "execution_count": 49,
   "id": "1a5e9ce2",
   "metadata": {
    "ExecuteTime": {
     "end_time": "2023-06-05T05:36:32.205828Z",
     "start_time": "2023-06-05T05:36:30.932329Z"
    }
   },
   "outputs": [],
   "source": [
    "docsearch = FAISS.from_texts(texts, embeddings, metadatas=[{\"source\": str(i)} for i in range(len(texts))])"
   ]
  },
  {
   "cell_type": "code",
   "execution_count": 50,
   "id": "3f1152ff",
   "metadata": {
    "ExecuteTime": {
     "end_time": "2023-06-05T05:36:35.137733Z",
     "start_time": "2023-06-05T05:36:34.788296Z"
    }
   },
   "outputs": [],
   "source": [
    "query = \"나는 현재 전세계약을 완료하고 입주한 상태야 현재 주의해야하는 점이 있을까?\"\n",
    "docs = docsearch.similarity_search(query)[0:2]"
   ]
  },
  {
   "cell_type": "code",
   "execution_count": 51,
   "id": "850c4757",
   "metadata": {
    "ExecuteTime": {
     "end_time": "2023-06-05T05:36:36.074467Z",
     "start_time": "2023-06-05T05:36:36.065820Z"
    }
   },
   "outputs": [],
   "source": [
    "from langchain.chains.qa_with_sources import load_qa_with_sources_chain\n",
    "from langchain.llms import OpenAI"
   ]
  },
  {
   "cell_type": "code",
   "execution_count": 52,
   "id": "bf86fec3",
   "metadata": {
    "ExecuteTime": {
     "end_time": "2023-06-05T05:42:21.912977Z",
     "start_time": "2023-06-05T05:41:30.308984Z"
    }
   },
   "outputs": [],
   "source": [
    "# template = \"\"\"\n",
    "# 질문자의 상황 : {question}\n",
    "# =========\n",
    "# {summaries}\n",
    "# =========\n",
    "# 질문자는 현재 본인이 전세사기의 위험이 있는지 알고싶어해.\n",
    "# 너는 위 사례와 질문자의 상황의 비슷한점을 판단해서 어떠한점이 위험한지 알려줘야해\n",
    "# 너는 반드시 답변시 질문자의 상황과 사례를 비교하면서 어떤점이 위험한지 알려줘야해\n",
    "# \"\"\"\n",
    "\n",
    "# PROMPT = PromptTemplate(template=template, input_variables=[\"summaries\", \"question\"])\n",
    "\n",
    "# chain = load_qa_with_sources_chain(OpenAI(temperature=0, max_tokens=1500), chain_type=\"stuff\", prompt=PROMPT)\n",
    "# chain({\"input_documents\": docs, \"question\": query}, return_only_outputs=True)"
   ]
  },
  {
   "cell_type": "code",
   "execution_count": 53,
   "id": "84678636",
   "metadata": {},
   "outputs": [
    {
     "data": {
      "text/plain": [
       "{'output_text': '\\nAnswer: 전세계약을 완료하고 입주한 상태에서는 전입신고를 해야합니다. 전입신고를 하지 않으면 다른 사람이 임대인으로 등록하고 내 보증금을 돌려받지 못하게 될 수 있습니다. 또한, 전입신고를 한 사이에 다른 사람이 임대인으로 등록하고 내 대항력이 깨진 상태로 나의 상황을 보호하는 과정이 몹시 복잡해질 수 있습니다. 또한, 계약이 끝난 후 생길 수 있는 전세사기 유형에는 임대인이 보증금을 안돌려주는 경우가 있으니 주의해야 합니다. 따라서, 전입신고를 하고 등기부등본을 확인하고 특약사항을 넣어주시면 전세사기를 방지하실 수 있습니다.'}"
      ]
     },
     "execution_count": 53,
     "metadata": {},
     "output_type": "execute_result"
    }
   ],
   "source": [
    "template = \"\"\"\n",
    "Questioner status : {question}\n",
    "=========\n",
    "{summaries}\n",
    "=========\n",
    "The questioner wants to know if there is a risk of a charter fraud.\n",
    "You should judge the similarities between the above case and the questioner's situation and let us know what is dangerous.\n",
    "When you answer, you must compare the situation and case of the questioner and let them know what is dangerous.\n",
    "you must answer IN KOREAN.\n",
    "\"\"\"\n",
    "\n",
    "PROMPT = PromptTemplate(template=template, input_variables=[\"summaries\", \"question\"])\n",
    "\n",
    "chain = load_qa_with_sources_chain(OpenAI(temperature=0, max_tokens=1000), chain_type=\"stuff\", prompt=PROMPT)\n",
    "chain({\"input_documents\": docs, \"question\": query}, return_only_outputs=True)"
   ]
  },
  {
   "cell_type": "code",
   "execution_count": null,
   "id": "3cbd517f",
   "metadata": {},
   "outputs": [],
   "source": []
  }
 ],
 "metadata": {
  "kernelspec": {
   "display_name": "Python 3 (ipykernel)",
   "language": "python",
   "name": "python3"
  },
  "language_info": {
   "codemirror_mode": {
    "name": "ipython",
    "version": 3
   },
   "file_extension": ".py",
   "mimetype": "text/x-python",
   "name": "python",
   "nbconvert_exporter": "python",
   "pygments_lexer": "ipython3",
   "version": "3.9.13"
  }
 },
 "nbformat": 4,
 "nbformat_minor": 5
}
